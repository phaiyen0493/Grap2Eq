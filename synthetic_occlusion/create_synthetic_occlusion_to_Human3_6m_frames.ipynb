{
 "cells": [
  {
   "cell_type": "code",
   "execution_count": null,
   "metadata": {
    "id": "czEOCB49b_FL"
   },
   "outputs": [],
   "source": [
    "import numpy as np\n",
    "gt_2d = np.load('data_2d_h36m_gt.npz', allow_pickle=True)['positions_2d'].item()"
   ]
  },
  {
   "cell_type": "code",
   "execution_count": null,
   "metadata": {
    "colab": {
     "base_uri": "https://localhost:8080/"
    },
    "id": "sCE1WluL-Ahd",
    "outputId": "f20d5d25-9e95-437d-be5e-a3713e203ef1"
   },
   "outputs": [],
   "source": [
    "gt_2d['S9']['Directions'][0][0]"
   ]
  },
  {
   "cell_type": "code",
   "execution_count": null,
   "metadata": {
    "colab": {
     "base_uri": "https://localhost:8080/"
    },
    "id": "R8xzDLjnfAxg",
    "outputId": "869d07c8-9162-48f7-a981-d7c8c1dea028"
   },
   "outputs": [],
   "source": [
    "np.mean(gt_2d['S1']['Directions'][0][0], axis = 0)"
   ]
  },
  {
   "cell_type": "code",
   "execution_count": null,
   "metadata": {
    "colab": {
     "base_uri": "https://localhost:8080/"
    },
    "id": "Id8TKufx6-_5",
    "outputId": "2beb8b60-c265-45c8-8363-db33ec078186"
   },
   "outputs": [],
   "source": [
    "!pip install pillow"
   ]
  },
  {
   "cell_type": "code",
   "execution_count": null,
   "metadata": {
    "id": "gvZb5kblUnye"
   },
   "outputs": [],
   "source": [
    "min = np.min(gt_2d['S1']['Directions 1'][0][600], axis=0)\n",
    "max = np.max(gt_2d['S1']['Directions 1'][0][600], axis=0)"
   ]
  },
  {
   "cell_type": "code",
   "execution_count": null,
   "metadata": {
    "id": "i-c05YHcU87h"
   },
   "outputs": [],
   "source": [
    "centroid = (max + min)/2"
   ]
  },
  {
   "cell_type": "code",
   "execution_count": null,
   "metadata": {
    "id": "EHZ4vti7WceM"
   },
   "outputs": [],
   "source": [
    "radius = np.linalg.norm(max - min)/10"
   ]
  },
  {
   "cell_type": "code",
   "execution_count": null,
   "metadata": {
    "colab": {
     "base_uri": "https://localhost:8080/",
     "height": 424
    },
    "id": "YRy-7SdSUMMz",
    "outputId": "07e36f06-9051-48e5-f48c-224f5758dfdc"
   },
   "outputs": [],
   "source": [
    "from PIL import Image\n",
    "import PIL\n",
    "import shutil\n",
    "import os\n",
    "from os import path\n",
    "import matplotlib.pyplot as plt\n",
    "\n",
    "img_path = '/human36m/Videos_S1/S1/images/Directions 1.54138969/0600.jpg'\n",
    "img = plt.imread(img_path)\n",
    "fig, ax = plt.subplots()\n",
    "ax.imshow(img)\n",
    "plt.axis('off')\n",
    "circle = plt.Circle((centroid[0], centroid[1]), radius, color='black')\n",
    "ax.imshow(img)\n",
    "ax.add_patch(circle)\n",
    "plt.axis('off')"
   ]
  },
  {
   "cell_type": "code",
   "execution_count": null,
   "metadata": {},
   "outputs": [],
   "source": [
    "!pip install moviepy"
   ]
  },
  {
   "cell_type": "code",
   "execution_count": null,
   "metadata": {
    "id": "A64-lAUhYo7V"
   },
   "outputs": [],
   "source": [
    "import os\n",
    "import moviepy.video.io.ImageSequenceClip\n",
    "from PIL import Image\n",
    "import PIL\n",
    "import shutil\n",
    "\n",
    "def get_occlusion(gt_2d, radius_level, time_level, c):\n",
    "  # actions = ['Directions 1', 'Directions 2', 'Discussion 2', 'Discussion 3', 'Eating', 'Eating 1', 'Greeting 1', 'Greeting 2', 'Phoning', 'Phoning 1']\n",
    "  actions = ['Greeting 1', 'Greeting 2', 'Phoning', 'Phoning 1']\n",
    "  # cams = {'54138969': [0, 1000, 1002], '55011271': [1, 1000, 1000], '58860488': [2, 1000, 1000], '60457274': [3, 1000, 1002]}\n",
    "  cams = {'55011271': [1, 1000, 1000], '58860488': [2, 1000, 1000], '60457274': [3, 1000, 1002]}\n",
    "\n",
    "  if radius_level == 1:\n",
    "      ratio = 10\n",
    "  elif radius_level == 2:\n",
    "      ratio = 5\n",
    "  elif radius_level == 3:\n",
    "      ratio = 10/3\n",
    "\n",
    "  for action in actions:\n",
    "    for cam in cams.keys():\n",
    "      vid_length = len(gt_2d['S9'][action][cams[cam][0]])\n",
    "      frame_count = int(vid_length*time_level/5)\n",
    "      bounding_min = np.min(gt_2d['S9'][action][cams[cam][0]][int(vid_length/2 - frame_count/2)], axis=0)\n",
    "      bounding_max = np.max(gt_2d['S9'][action][cams[cam][0]][int(vid_length/2 - frame_count/2)], axis=0)\n",
    "      centroid = (bounding_max + bounding_min)/2\n",
    "      radius = np.linalg.norm(bounding_max - bounding_min)/ratio\n",
    "      src_dir = '/human36m/Videos_S9/S9/images/' + action + '.' + cam + '/'\n",
    "      output_path = '/human36m/Videos_S9/S9/synthetic_occlusion_images/' + action + '.' + cam + '_' + str(radius_level) + str(time_level) + '/'\n",
    "      if path.exists(output_path) == False:\n",
    "        files=os.listdir(src_dir)\n",
    "        shutil.copytree(src_dir, output_path)\n",
    "    \n",
    "      print(action)\n",
    "      print(cam)\n",
    "      print(radius_level)\n",
    "      print(time_level)\n",
    "      print('start: ' + str(int(vid_length/2 - frame_count/2)))\n",
    "      print('end: ' + str(int(vid_length/2 + frame_count/2)))\n",
    "      print('radius: ' + str (radius))\n",
    "      print('centroid: ' + str(centroid))\n",
    "        \n",
    "      for img_index in range(int(vid_length/2 - frame_count/2), int(vid_length/2 + frame_count/2)):\n",
    "        img_path = src_dir + str(img_index).zfill(4) + '.jpg'\n",
    "        img = plt.imread(img_path)\n",
    "        fig = plt.figure(frameon=False)\n",
    "        fig.set_size_inches(cams[cam][1]/100, cams[cam][2]/100)\n",
    "        ax = plt.Axes(fig, [0., 0., 1., 1.])\n",
    "        ax.set_axis_off()\n",
    "        fig.add_axes(ax)\n",
    "        ax.imshow(img,aspect='auto')\n",
    "        circle = plt.Circle((centroid[0], centroid[1]), radius, color=c)\n",
    "        ax.add_patch(circle)\n",
    "\n",
    "        # print(img_index)\n",
    "        plt.savefig(output_path + str(img_index).zfill(4) + '.jpg', dpi=100)\n",
    "        \n",
    "        plt.close()"
   ]
  },
  {
   "cell_type": "code",
   "execution_count": null,
   "metadata": {
    "id": "L8LXWgnWKjKK"
   },
   "outputs": [],
   "source": [
    "import os\n",
    "import moviepy.video.io.ImageSequenceClip\n",
    "\n",
    "for radius_level in [1]:\n",
    "  for time_level in [1]:\n",
    "    get_occlusion(gt_2d, radius_level, time_level, 'black' )"
   ]
  }
 ],
 "metadata": {
  "colab": {
   "provenance": []
  },
  "kernelspec": {
   "display_name": "Python 3 (ipykernel)",
   "language": "python",
   "name": "python3"
  },
  "language_info": {
   "codemirror_mode": {
    "name": "ipython",
    "version": 3
   },
   "file_extension": ".py",
   "mimetype": "text/x-python",
   "name": "python",
   "nbconvert_exporter": "python",
   "pygments_lexer": "ipython3",
   "version": "3.10.12"
  }
 },
 "nbformat": 4,
 "nbformat_minor": 4
}
