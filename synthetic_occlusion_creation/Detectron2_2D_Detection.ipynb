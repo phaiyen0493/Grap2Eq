{
 "cells": [
  {
   "cell_type": "code",
   "execution_count": null,
   "metadata": {
    "colab": {
     "base_uri": "https://localhost:8080/"
    },
    "executionInfo": {
     "elapsed": 2239,
     "status": "ok",
     "timestamp": 1698135592930,
     "user": {
      "displayName": "Phạm Hải Yến",
      "userId": "05511461666854775643"
     },
     "user_tz": 300
    },
    "id": "2spBSAAEMg9R",
    "outputId": "d6cdee10-ce67-4f32-d15e-9ff0aecb5c9a"
   },
   "outputs": [],
   "source": [
    "import torch, detectron2\n",
    "!nvcc --version\n",
    "TORCH_VERSION = \".\".join(torch.__version__.split(\".\")[:2])\n",
    "CUDA_VERSION = torch.__version__.split(\"+\")[-1]\n",
    "print(\"torch: \", TORCH_VERSION, \"; cuda: \", CUDA_VERSION)\n",
    "print(\"detectron2:\", detectron2.__version__)"
   ]
  },
  {
   "cell_type": "code",
   "execution_count": null,
   "metadata": {
    "executionInfo": {
     "elapsed": 1495,
     "status": "ok",
     "timestamp": 1698135594420,
     "user": {
      "displayName": "Phạm Hải Yến",
      "userId": "05511461666854775643"
     },
     "user_tz": 300
    },
    "id": "_TiTXhFJNPIn"
   },
   "outputs": [],
   "source": [
    "from detectron2.engine import DefaultTrainer\n",
    "from detectron2.config import get_cfg\n",
    "import detectron2\n",
    "from detectron2.utils.logger import setup_logger\n",
    "setup_logger()\n",
    "\n",
    "# import some common libraries\n",
    "import numpy as np\n",
    "import os, json, cv2, random\n",
    "#from google.colab.patches import cv2_imshow\n",
    "\n",
    "# import some common detectron2 utilities\n",
    "from detectron2 import model_zoo\n",
    "from detectron2.engine import DefaultPredictor\n",
    "from detectron2.config import get_cfg\n",
    "from detectron2.utils.visualizer import Visualizer\n",
    "from detectron2.data import MetadataCatalog, DatasetCatalog\n",
    "from detectron2.structures import BoxMode"
   ]
  },
  {
   "cell_type": "code",
   "execution_count": null,
   "metadata": {
    "colab": {
     "base_uri": "https://localhost:8080/"
    },
    "executionInfo": {
     "elapsed": 19921,
     "status": "ok",
     "timestamp": 1698135614339,
     "user": {
      "displayName": "Phạm Hải Yến",
      "userId": "05511461666854775643"
     },
     "user_tz": 300
    },
    "id": "9rsY_2o4Q84O",
    "outputId": "adb3cf86-8523-4187-c340-94e97539890a"
   },
   "outputs": [],
   "source": [
    "#We are using the pre-trained Detectron2 model, as shown below.\n",
    "cfg = get_cfg()\n",
    "\n",
    "cfg.MODEL.DEVICE = \"cuda\"\n",
    "# load the pre trained model from Detectron2 model zoo\n",
    "cfg.merge_from_file(model_zoo.get_config_file(\"COCO-Keypoints/keypoint_rcnn_R_101_FPN_3x.yaml\"))\n",
    "# set confidence threshold for this model\n",
    "cfg.MODEL.ROI_HEADS.SCORE_THRESH_TEST = 0.5\n",
    "# load model weights\n",
    "cfg.MODEL.WEIGHTS = model_zoo.get_checkpoint_url(\"COCO-Keypoints/keypoint_rcnn_R_101_FPN_3x.yaml\")\n",
    "# create the predictor for pose estimation using the config\n",
    "pose_detector = DefaultPredictor(cfg)"
   ]
  },
  {
   "cell_type": "code",
   "execution_count": null,
   "metadata": {
    "colab": {
     "base_uri": "https://localhost:8080/"
    },
    "executionInfo": {
     "elapsed": 669,
     "status": "ok",
     "timestamp": 1698135621875,
     "user": {
      "displayName": "Phạm Hải Yến",
      "userId": "05511461666854775643"
     },
     "user_tz": 300
    },
    "id": "mzQun9Stv827",
    "outputId": "aba94cbd-ef10-4b24-c852-c813cfe5d705"
   },
   "outputs": [],
   "source": [
    "import numpy as np"
   ]
  },
  {
   "cell_type": "code",
   "execution_count": null,
   "metadata": {
    "executionInfo": {
     "elapsed": 5012,
     "status": "ok",
     "timestamp": 1698135846077,
     "user": {
      "displayName": "Phạm Hải Yến",
      "userId": "05511461666854775643"
     },
     "user_tz": 300
    },
    "id": "q9o7cew6yI9M"
   },
   "outputs": [],
   "source": [
    "gt_3d = np.load('/human36m/preprocessed_data/data_3d_h36m.npz', allow_pickle=True)['positions_3d'].item()"
   ]
  },
  {
   "cell_type": "code",
   "execution_count": null,
   "metadata": {
    "executionInfo": {
     "elapsed": 3258,
     "status": "ok",
     "timestamp": 1698136437885,
     "user": {
      "displayName": "Phạm Hải Yến",
      "userId": "05511461666854775643"
     },
     "user_tz": 300
    },
    "id": "OBCuX7t50VbS"
   },
   "outputs": [],
   "source": [
    "gt_2d = np.load('/human36m/preprocessed_data/data_2d_h36m_gt.npz', allow_pickle=True)['positions_2d'].item()"
   ]
  },
  {
   "cell_type": "code",
   "execution_count": null,
   "metadata": {},
   "outputs": [],
   "source": [
    "gt_3d['S11'].keys()"
   ]
  },
  {
   "cell_type": "code",
   "execution_count": null,
   "metadata": {
    "executionInfo": {
     "elapsed": 5,
     "status": "ok",
     "timestamp": 1698135624986,
     "user": {
      "displayName": "Phạm Hải Yến",
      "userId": "05511461666854775643"
     },
     "user_tz": 300
    },
    "id": "48GE40_OdqtR"
   },
   "outputs": [],
   "source": [
    "def coco2h36m(x):\n",
    "    '''\n",
    "        Input: x (M x T x V x C)\n",
    "\n",
    "        COCO: {0-nose 1-Leye 2-Reye 3-Lear 4Rear 5-Lsho 6-Rsho 7-Lelb 8-Relb 9-Lwri 10-Rwri 11-Lhip 12-Rhip 13-Lkne 14-Rkne 15-Lank 16-Rank}\n",
    "\n",
    "        H36M:\n",
    "        0: 'root',\n",
    "        1: 'rhip',\n",
    "        2: 'rkne',\n",
    "        3: 'rank',\n",
    "        4: 'lhip',\n",
    "        5: 'lkne',\n",
    "        6: 'lank',\n",
    "        7: 'belly',\n",
    "        8: 'neck',\n",
    "        9: 'nose',\n",
    "        10: 'head',\n",
    "        11: 'lsho',\n",
    "        12: 'lelb',\n",
    "        13: 'lwri',\n",
    "        14: 'rsho',\n",
    "        15: 'relb',\n",
    "        16: 'rwri'\n",
    "    '''\n",
    "    y = np.zeros(x.shape)\n",
    "    y[:,0,:] = (x[:,11,:] + x[:,12,:]) * 0.5\n",
    "    y[:,1,:] = x[:,12,:]\n",
    "    y[:,2,:] = x[:,14,:]\n",
    "    y[:,3,:] = x[:,16,:]\n",
    "    y[:,4,:] = x[:,11,:]\n",
    "    y[:,5,:] = x[:,13,:]\n",
    "    y[:,6,:] = x[:,15,:]\n",
    "    y[:,8,:] = (x[:,5,:] + x[:,6,:]) * 0.5\n",
    "    y[:,7,:] = (y[:,0,:] + y[:,8,:]) * 0.5\n",
    "    y[:,9,:] = x[:,0,:]\n",
    "    y[:,10,:] = (x[:,1,:] + x[:,2,:]) * 0.5\n",
    "    y[:,11,:] = x[:,5,:]\n",
    "    y[:,12,:] = x[:,7,:]\n",
    "    y[:,13,:] = x[:,9,:]\n",
    "    y[:,14,:] = x[:,6,:]\n",
    "    y[:,15,:] = x[:,8,:]\n",
    "    y[:,16,:] = x[:,10,:]\n",
    "    return y"
   ]
  },
  {
   "cell_type": "code",
   "execution_count": null,
   "metadata": {
    "colab": {
     "base_uri": "https://localhost:8080/"
    },
    "executionInfo": {
     "elapsed": 1500921,
     "status": "ok",
     "timestamp": 1698137993940,
     "user": {
      "displayName": "Phạm Hải Yến",
      "userId": "05511461666854775643"
     },
     "user_tz": 300
    },
    "id": "iipzfrQ9Sefb",
    "outputId": "0fc9123c-76d5-4b9d-e568-4c757d2afcbc"
   },
   "outputs": [],
   "source": [
    "import glob\n",
    "\n",
    "predictor = DefaultPredictor(cfg)\n",
    "# level = '11'\n",
    "level = 'clear'\n",
    "actions = ['Directions 1', 'Discussion 1', 'Discussion 2', 'Eating', 'Eating 1', 'Greeting', 'Greeting 2', 'Phoning 2', 'Phoning 3']\n",
    "\n",
    "# actions = ['Discussion 2', 'Eating', 'Eating 1', 'Greeting', 'Greeting 1', 'Phoning', 'Phoning 1']\n",
    "cams = {'54138969': 0, '55011271': 1, '58860488': 2, '60457274': 3}\n",
    "detectron = {}\n",
    "temp_dict = {}\n",
    "\n",
    "for action in actions:\n",
    "  all_cams = []\n",
    "  print(action)\n",
    "  for cam_no in cams.keys():\n",
    "    print(cam_no)        \n",
    "    keypoints_per_cam = []\n",
    "    count = 0\n",
    "    for img_ind in range(len(gt_3d['S9'][action])):\n",
    "        dir = '/human36m/Videos_S9/S9/synthetic_occlusion_images/'+ action +'.' + cam_no + '_' + level + '/' + str(img_ind).zfill(4) + '.jpg'\n",
    "        im = cv2.imread(dir)\n",
    "        im = cv2.imread(dir)\n",
    "        outputs = predictor(im)\n",
    "        predicted = outputs[\"instances\"].pred_keypoints.cpu().numpy()\n",
    "        if len(predicted) > 0:\n",
    "            predicted = coco2h36m(predicted)[0]\n",
    "        else:\n",
    "            predicted = keypoints_per_cam[-1]\n",
    "        count = count + 1\n",
    "        if count % 1000 == 0:\n",
    "            print(count)\n",
    "        keypoints_per_cam.append(predicted)\n",
    "    all_cams.append(np.array(keypoints_per_cam, dtype='float32'))\n",
    "  np.savez_compressed('/human36m/Videos_S9/S9/synthetic_occlusion_keypoints/'+ action +'_' + level, positions_2d=all_cams)"
   ]
  }
 ],
 "metadata": {
  "accelerator": "GPU",
  "colab": {
   "authorship_tag": "ABX9TyMwiRC+WXvAkNBITwLT4g9W",
   "gpuType": "T4",
   "mount_file_id": "136Fs5yyhrAqFtwhSl8gdsuMIn3tgNSJd",
   "provenance": []
  },
  "kernelspec": {
   "display_name": "Python 3 (ipykernel)",
   "language": "python",
   "name": "python3"
  },
  "language_info": {
   "codemirror_mode": {
    "name": "ipython",
    "version": 3
   },
   "file_extension": ".py",
   "mimetype": "text/x-python",
   "name": "python",
   "nbconvert_exporter": "python",
   "pygments_lexer": "ipython3",
   "version": "3.10.12"
  }
 },
 "nbformat": 4,
 "nbformat_minor": 4
}
