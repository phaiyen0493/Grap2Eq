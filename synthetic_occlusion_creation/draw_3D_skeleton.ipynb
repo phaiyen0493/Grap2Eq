{
 "cells": [
  {
   "cell_type": "code",
   "execution_count": null,
   "metadata": {
    "id": "wJ5RPUNrwpLb"
   },
   "outputs": [],
   "source": [
    "import numpy as np"
   ]
  },
  {
   "cell_type": "code",
   "execution_count": null,
   "metadata": {
    "id": "HLCweSbtHq7q"
   },
   "outputs": [],
   "source": [
    "grap2eq_directions = np.load('Grap2Eq_S9_Directions.npy')"
   ]
  },
  {
   "cell_type": "code",
   "execution_count": null,
   "metadata": {
    "id": "cGwEQnhOBZdC"
   },
   "outputs": [],
   "source": [
    "directions_gt = np.load('S9_Directions_gt.npy')"
   ]
  },
  {
   "cell_type": "code",
   "execution_count": null,
   "metadata": {
    "colab": {
     "base_uri": "https://localhost:8080/"
    },
    "id": "8XmNJY6ABM-q",
    "outputId": "0db54fec-eabb-4d9a-f95c-2a557311ef48"
   },
   "outputs": [],
   "source": [
    "directions_gt.shape"
   ]
  },
  {
   "cell_type": "code",
   "execution_count": null,
   "metadata": {
    "id": "twGVT7hCNYSF"
   },
   "outputs": [],
   "source": [
    "grap2eq_directions = grap2eq_directions.reshape(grap2eq_directions.shape[0]*grap2eq_directions.shape[1], 17,3)"
   ]
  },
  {
   "cell_type": "code",
   "execution_count": null,
   "metadata": {
    "id": "nxUDALsVSjaM"
   },
   "outputs": [],
   "source": [
    "directions_gt = directions_gt.reshape(directions_gt.shape[0]*directions_gt.shape[1], 17,3)"
   ]
  },
  {
   "cell_type": "code",
   "execution_count": null,
   "metadata": {
    "id": "pZWMyRqU-atx"
   },
   "outputs": [],
   "source": [
    "vid = grap2eq_directions\n",
    "vid_gt = directions_gt"
   ]
  },
  {
   "cell_type": "code",
   "execution_count": null,
   "metadata": {
    "colab": {
     "base_uri": "https://localhost:8080/",
     "height": 438
    },
    "id": "y4RknivtzPQP",
    "outputId": "1e26d6a9-3b50-44c5-a351-6b8c3dfb680d"
   },
   "outputs": [],
   "source": [
    "import numpy as np\n",
    "import matplotlib.pyplot as plt\n",
    "from mpl_toolkits.mplot3d import Axes3D\n",
    "from matplotlib.animation import FuncAnimation\n",
    "\n",
    "fig = plt.figure()\n",
    "ax = fig.add_subplot(111, projection='3d')\n",
    "ax.set_autoscale_on(False)\n",
    "\n",
    "# Enable subtle 3D gridlines\n",
    "ax.grid(True)\n",
    "\n",
    "def connect_joints(position_3d_per_frame, ax):\n",
    "    def plot_connection(start, end, color):\n",
    "        connected_joints_transposed = np.transpose([position_3d_per_frame[start], position_3d_per_frame[end]])\n",
    "        ax.plot3D(connected_joints_transposed[0], connected_joints_transposed[1], connected_joints_transposed[2], color=color, linewidth=2)\n",
    "\n",
    "    # Left side (green)\n",
    "    plot_connection(0, 4, 'green')  # hip - left hip\n",
    "    plot_connection(4, 5, 'green')  # left hip - left knee\n",
    "    plot_connection(5, 6, 'green')  # left knee - left foot\n",
    "    plot_connection(11, 12, 'green')  # left shoulder - left elbow\n",
    "    plot_connection(12, 13, 'green')  # left elbow - left wrist\n",
    "    plot_connection(11, 8, 'green')  # left shoulder - thorax\n",
    "\n",
    "    # Right side (blue)\n",
    "    plot_connection(0, 1, 'blue')  # hip - right hip\n",
    "    plot_connection(1, 2, 'blue')  # right hip - right knee\n",
    "    plot_connection(2, 3, 'blue')  # right knee - right foot\n",
    "    plot_connection(14, 15, 'blue')  # right shoulder - right elbow\n",
    "    plot_connection(15, 16, 'blue')  # right elbow - right wrist\n",
    "    plot_connection(14, 8, 'blue')  # right shoulder - thorax\n",
    "\n",
    "    # Middle (black)\n",
    "    plot_connection(8, 7, 'black')  # thorax - spine\n",
    "    plot_connection(8, 9, 'black')  # thorax - neck/nose\n",
    "    plot_connection(9, 10, 'black')  # neck/nose - head\n",
    "    plot_connection(7, 0, 'black')  # spine - hip\n",
    "\n",
    "def connect_joints_gt(position_3d_per_frame, ax):\n",
    "    def plot_connection(start, end, color):\n",
    "        connected_joints_transposed = np.transpose([position_3d_per_frame[start], position_3d_per_frame[end]])\n",
    "        ax.plot3D(connected_joints_transposed[0], connected_joints_transposed[1], connected_joints_transposed[2], color=color, linewidth=2)\n",
    "\n",
    "    # Left side\n",
    "    plot_connection(0, 4, 'red')  # hip - left hip\n",
    "    plot_connection(4, 5, 'red')  # left hip - left knee\n",
    "    plot_connection(5, 6, 'red')  # left knee - left foot\n",
    "    plot_connection(11, 12, 'red')  # left shoulder - left elbow\n",
    "    plot_connection(12, 13, 'red')  # left elbow - left wrist\n",
    "    plot_connection(11, 8, 'red')  # left shoulder - thorax\n",
    "\n",
    "    # Right side\n",
    "    plot_connection(0, 1, 'red')  # hip - right hip\n",
    "    plot_connection(1, 2, 'red')  # right hip - right knee\n",
    "    plot_connection(2, 3, 'red')  # right knee - right foot\n",
    "    plot_connection(14, 15, 'red')  # right shoulder - right elbow\n",
    "    plot_connection(15, 16, 'red')  # right elbow - right wrist\n",
    "    plot_connection(14, 8, 'red')  # right shoulder - thorax\n",
    "\n",
    "    # Middle (black)\n",
    "    plot_connection(8, 7, 'red')  # thorax - spine\n",
    "    plot_connection(8, 9, 'red')  # thorax - neck/nose\n",
    "    plot_connection(9, 10, 'red')  # neck/nose - head\n",
    "    plot_connection(7, 0, 'red')  # spine - hip\n",
    "\n",
    "def animate(i):\n",
    "    # position_3d_per_frame = np.delete(vid[i], [4,5,9,10,11,16,20,21,22,23,24,28,29,30,31], 0)\n",
    "    position_3d_per_frame = vid[i]\n",
    "    position_3d_per_frame_gt = vid_gt[i]\n",
    "\n",
    "    ax.clear()\n",
    "    ax.view_init(elev=-60, azim=-90)\n",
    "    ax.set_xlim(-1, 1)\n",
    "    ax.set_ylim(-1, 1)\n",
    "    ax.set_zlim(-1, 1)\n",
    "\n",
    "    # Set empty labels for each axis instead of removing the ticks\n",
    "    ax.set_xticklabels([])\n",
    "    ax.set_yticklabels([])\n",
    "    ax.set_zticklabels([])\n",
    "\n",
    "    # Redraw gridlines subtly\n",
    "    ax.grid(True)\n",
    "    # Set the gridline properties for a very subtle effect\n",
    "    ax.xaxis._axinfo['grid'].update(color='#D0D0D0', linestyle='-', linewidth=0.3)\n",
    "    ax.yaxis._axinfo['grid'].update(color='#D0D0D0', linestyle='-', linewidth=0.3)\n",
    "    ax.zaxis._axinfo['grid'].update(color='#D0D0D0', linestyle='-', linewidth=0.3)\n",
    "\n",
    "    connect_joints(position_3d_per_frame, ax)\n",
    "    connect_joints_gt(position_3d_per_frame_gt, ax)\n"
   ]
  },
  {
   "cell_type": "code",
   "execution_count": null,
   "metadata": {
    "id": "fTiXjJQE_OH8"
   },
   "outputs": [],
   "source": [
    "# animate(0)\n",
    "ani = FuncAnimation(fig, animate, interval=10, frames = len(vid))\n",
    "\n",
    "# show the plot\n",
    "from IPython.display import HTML\n",
    "grap2eq_out = HTML(ani.to_html5_video())"
   ]
  },
  {
   "cell_type": "code",
   "execution_count": null,
   "metadata": {
    "colab": {
     "base_uri": "https://localhost:8080/",
     "height": 521
    },
    "id": "lSsRdXdqBy40",
    "outputId": "33ff1a23-3eff-455f-8baf-695e186f02f6"
   },
   "outputs": [],
   "source": [
    "grap2eq_out"
   ]
  },
  {
   "cell_type": "code",
   "execution_count": null,
   "metadata": {
    "id": "qQgEHlj6foUW"
   },
   "outputs": [],
   "source": [
    "ani.save(\"grap2eq_S9_Directions.mp4\", writer='ffmpeg', fps=50)"
   ]
  }
 ],
 "metadata": {
  "colab": {
   "provenance": []
  },
  "kernelspec": {
   "display_name": "Python 3 (ipykernel)",
   "language": "python",
   "name": "python3"
  },
  "language_info": {
   "codemirror_mode": {
    "name": "ipython",
    "version": 3
   },
   "file_extension": ".py",
   "mimetype": "text/x-python",
   "name": "python",
   "nbconvert_exporter": "python",
   "pygments_lexer": "ipython3",
   "version": "3.10.12"
  }
 },
 "nbformat": 4,
 "nbformat_minor": 4
}
